{
 "cells": [
  {
   "cell_type": "code",
   "execution_count": 1,
   "id": "866de49f-1cb9-4b2a-8574-2bec7f5923a8",
   "metadata": {},
   "outputs": [],
   "source": [
    "from ax import optimize"
   ]
  },
  {
   "cell_type": "code",
   "execution_count": 2,
   "id": "d28e42e2-ee4b-45c3-a1cb-56603d45e836",
   "metadata": {},
   "outputs": [
    {
     "name": "stderr",
     "output_type": "stream",
     "text": [
      "[INFO 03-01 16:38:51] ax.service.utils.instantiation: Inferred value type of ParameterType.FLOAT for parameter x1. If that is not the expected value type, you can explicitly specify 'value_type' ('int', 'float', 'bool' or 'str') in parameter dict.\n",
      "[INFO 03-01 16:38:51] ax.service.utils.instantiation: Inferred value type of ParameterType.FLOAT for parameter x2. If that is not the expected value type, you can explicitly specify 'value_type' ('int', 'float', 'bool' or 'str') in parameter dict.\n",
      "[INFO 03-01 16:38:51] ax.service.utils.instantiation: Created search space: SearchSpace(parameters=[RangeParameter(name='x1', parameter_type=FLOAT, range=[-10.0, 10.0]), RangeParameter(name='x2', parameter_type=FLOAT, range=[-10.0, 10.0])], parameter_constraints=[]).\n",
      "[INFO 03-01 16:38:51] ax.modelbridge.dispatch_utils: Using Models.BOTORCH_MODULAR since there are more ordered parameters than there are categories for the unordered categorical parameters.\n",
      "[INFO 03-01 16:38:51] ax.modelbridge.dispatch_utils: Calculating the number of remaining initialization trials based on num_initialization_trials=None max_initialization_trials=None num_tunable_parameters=2 num_trials=None use_batch_trials=False\n",
      "[INFO 03-01 16:38:51] ax.modelbridge.dispatch_utils: calculated num_initialization_trials=5\n",
      "[INFO 03-01 16:38:51] ax.modelbridge.dispatch_utils: num_completed_initialization_trials=0 num_remaining_initialization_trials=5\n",
      "[INFO 03-01 16:38:51] ax.modelbridge.dispatch_utils: `verbose`, `disable_progbar`, and `jit_compile` are not yet supported when using `choose_generation_strategy` with ModularBoTorchModel, dropping these arguments.\n",
      "[INFO 03-01 16:38:51] ax.modelbridge.dispatch_utils: Using Bayesian Optimization generation strategy: GenerationStrategy(name='Sobol+BoTorch', steps=[Sobol for 5 trials, BoTorch for subsequent trials]). Iterations after 5 will take longer to generate due to model-fitting.\n",
      "[INFO 03-01 16:38:51] ax.service.managed_loop: Started full optimization with 20 steps.\n",
      "[INFO 03-01 16:38:51] ax.service.managed_loop: Running optimization trial 1...\n",
      "[INFO 03-01 16:38:51] ax.service.managed_loop: Running optimization trial 2...\n",
      "[INFO 03-01 16:38:51] ax.service.managed_loop: Running optimization trial 3...\n",
      "[INFO 03-01 16:38:51] ax.service.managed_loop: Running optimization trial 4...\n",
      "[INFO 03-01 16:38:51] ax.service.managed_loop: Running optimization trial 5...\n",
      "[INFO 03-01 16:38:51] ax.service.managed_loop: Running optimization trial 6...\n",
      "[INFO 03-01 16:38:51] ax.service.managed_loop: Running optimization trial 7...\n",
      "[INFO 03-01 16:38:52] ax.service.managed_loop: Running optimization trial 8...\n",
      "[INFO 03-01 16:38:52] ax.service.managed_loop: Running optimization trial 9...\n",
      "[INFO 03-01 16:38:52] ax.service.managed_loop: Running optimization trial 10...\n",
      "[INFO 03-01 16:38:53] ax.service.managed_loop: Running optimization trial 11...\n",
      "[INFO 03-01 16:38:54] ax.service.managed_loop: Running optimization trial 12...\n",
      "[INFO 03-01 16:38:54] ax.service.managed_loop: Running optimization trial 13...\n",
      "[INFO 03-01 16:38:55] ax.service.managed_loop: Running optimization trial 14...\n",
      "[INFO 03-01 16:38:55] ax.service.managed_loop: Running optimization trial 15...\n",
      "[INFO 03-01 16:38:56] ax.service.managed_loop: Running optimization trial 16...\n",
      "[INFO 03-01 16:38:57] ax.service.managed_loop: Running optimization trial 17...\n",
      "[INFO 03-01 16:38:58] ax.service.managed_loop: Running optimization trial 18...\n",
      "[INFO 03-01 16:38:59] ax.service.managed_loop: Running optimization trial 19...\n",
      "[INFO 03-01 16:39:01] ax.service.managed_loop: Running optimization trial 20...\n"
     ]
    }
   ],
   "source": [
    "best_parameters, best_values, experiment, model = optimize(\n",
    "    parameters=[\n",
    "      {\n",
    "        \"name\": \"x1\",\n",
    "        \"type\": \"range\",\n",
    "        \"bounds\": [-10.0, 10.0],\n",
    "      },\n",
    "      {\n",
    "        \"name\": \"x2\",\n",
    "        \"type\": \"range\",\n",
    "        \"bounds\": [-10.0, 10.0],\n",
    "      },\n",
    "    ],\n",
    "    # Booth function\n",
    "    evaluation_function=lambda p: (p[\"x1\"] + 2*p[\"x2\"] - 7)**2 + (2*p[\"x1\"] + p[\"x2\"] - 5)**2,\n",
    "    minimize=True,\n",
    ")"
   ]
  },
  {
   "cell_type": "code",
   "execution_count": 3,
   "id": "ac38abef-d7a7-499f-bda3-a813b7d1d9a9",
   "metadata": {},
   "outputs": [
    {
     "data": {
      "text/plain": [
       "{'x1': 0.943631433755808, 'x2': 3.466799488567812}"
      ]
     },
     "execution_count": 3,
     "metadata": {},
     "output_type": "execute_result"
    }
   ],
   "source": [
    "best_parameters"
   ]
  },
  {
   "cell_type": "code",
   "execution_count": 4,
   "id": "355091c4-469d-486a-81cd-ed8aaf604183",
   "metadata": {},
   "outputs": [
    {
     "data": {
      "text/plain": [
       "({'objective': 0.4924812865216097},\n",
       " {'objective': {'objective': 5.615466862370944}})"
      ]
     },
     "execution_count": 4,
     "metadata": {},
     "output_type": "execute_result"
    }
   ],
   "source": [
    "best_values"
   ]
  }
 ],
 "metadata": {
  "kernelspec": {
   "display_name": "Python 3 (ipykernel)",
   "language": "python",
   "name": "python3"
  },
  "language_info": {
   "codemirror_mode": {
    "name": "ipython",
    "version": 3
   },
   "file_extension": ".py",
   "mimetype": "text/x-python",
   "name": "python",
   "nbconvert_exporter": "python",
   "pygments_lexer": "ipython3",
   "version": "3.11.7"
  }
 },
 "nbformat": 4,
 "nbformat_minor": 5
}
